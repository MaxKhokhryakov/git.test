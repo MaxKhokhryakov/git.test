{
 "cells": [
  {
   "cell_type": "code",
   "execution_count": null,
   "id": "17362f67",
   "metadata": {},
   "outputs": [],
   "source": [
    "for m in range (1,100) :\n",
    "    if m % 3 == 0 and m % 5 == 0 :\n",
    "        print ('FizzBuzz')\n",
    "    elif m % 3 == 0 :\n",
    "        print ('Fizz')\n",
    "    elif m % 5 == 0 :\n",
    "        print ('Buzz')\n",
    "    else :\n",
    "        print (m)"
   ]
  }
 ],
 "metadata": {
  "kernelspec": {
   "display_name": "Python 3 (ipykernel)",
   "language": "python",
   "name": "python3"
  },
  "language_info": {
   "codemirror_mode": {
    "name": "ipython",
    "version": 3
   },
   "file_extension": ".py",
   "mimetype": "text/x-python",
   "name": "python",
   "nbconvert_exporter": "python",
   "pygments_lexer": "ipython3",
   "version": "3.9.7"
  }
 },
 "nbformat": 4,
 "nbformat_minor": 5
}
