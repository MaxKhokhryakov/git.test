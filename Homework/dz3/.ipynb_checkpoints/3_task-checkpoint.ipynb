{
 "cells": [
  {
   "cell_type": "markdown",
   "id": "657be689",
   "metadata": {},
   "source": [
    "# Самостоятельное задание #3\n",
    "\n",
    "\n",
    "### Задание 1\n",
    "\n",
    "Допишите функцию, которая принимает массив из 10 чисел и возвращает их сумму."
   ]
  },
  {
   "cell_type": "code",
   "execution_count": 33,
   "id": "18ffcbab",
   "metadata": {},
   "outputs": [
    {
     "name": "stdout",
     "output_type": "stream",
     "text": [
      "151\n"
     ]
    }
   ],
   "source": [
    "mas = [1, 6, 3, 4, 5, 6, 7, 100, 9, 10]\n",
    " \n",
    "res = 0\n",
    " \n",
    "for i in mas:\n",
    "    res += i\n",
    " \n",
    "print(int(res))\n",
    "   "
   ]
  },
  {
   "cell_type": "markdown",
   "id": "eb78afc0",
   "metadata": {},
   "source": [
    "\n",
    "### Задание 2\n",
    "\n",
    "Допишите функцию, которая принимает массив чисел и возвращает количество чисел равных нулю."
   ]
  },
  {
   "cell_type": "code",
   "execution_count": 36,
   "id": "7e8fe536",
   "metadata": {},
   "outputs": [
    {
     "name": "stdout",
     "output_type": "stream",
     "text": [
      "7\n"
     ]
    }
   ],
   "source": [
    " count = 0\n",
    "massiv = [1,2,3,0,4,0, 0, 0, 0, 7, 0 ,0]\n",
    "for i in massiv:\n",
    "    if i == 0:\n",
    "        count += 1\n",
    "print(count)\n",
    "       "
   ]
  },
  {
   "cell_type": "markdown",
   "id": "570d5a26",
   "metadata": {},
   "source": [
    "\n",
    " Задание 3\n",
    "\n",
    "Напишите программу, в которой задается  натуральное число n и выводится лестница из n ступенек, i-я ступенька должна состоять из чисел от 1 до i без пробелов."
   ]
  },
  {
   "cell_type": "code",
   "execution_count": null,
   "id": "69fd0501",
   "metadata": {},
   "outputs": [],
   "source": [
    "n = int(input())\n",
    "for i in range(1, n + 1):\n",
    "    for j in range(1, i + 1):\n",
    "        print(j, sep=' ', end=' ')\n",
    "    print()"
   ]
  },
  {
   "cell_type": "markdown",
   "id": "b6ef1c44",
   "metadata": {},
   "source": [
    "\n",
    "### Задание 4\n",
    "\n",
    "Напишите программу, в которой задается натуральное число n и выводится пирамида из n ступенек, i-я ступень должна состоять из чисел от 1 до i и обратно без пробелов."
   ]
  },
  {
   "cell_type": "code",
   "execution_count": null,
   "id": "b99fda5a",
   "metadata": {},
   "outputs": [],
   "source": [
    "n = int(input()) + 1\n",
    "for i in range(1, n + 1):\n",
    "    print(' ' * (n - i), end='')\n",
    "    print(*range(1, i), *range(1, i - 1)[::-1], sep='')\n"
   ]
  },
  {
   "cell_type": "markdown",
   "id": "b4552ef5",
   "metadata": {},
   "source": [
    "\n",
    "### Задание 5\n",
    "\n",
    "Напишите программу, в которой задается натуральное число n и выводится ромб из `n*2-1` ступенек, i-я ступень должна состоять из чисел от 1 до i и обратно без пробелов."
   ]
  },
  {
   "cell_type": "code",
   "execution_count": 1,
   "id": "bdcd1b0c",
   "metadata": {},
   "outputs": [
    {
     "name": "stdout",
     "output_type": "stream",
     "text": [
      "        11\n",
      "       1221\n",
      "      123321\n",
      "     12344321\n",
      "    1234554321\n",
      "   123456654321\n",
      "  12345677654321\n",
      " 1234567887654321\n",
      "  12345677654321\n",
      "   123456654321\n",
      "    1234554321\n",
      "     12344321\n",
      "      123321\n",
      "       1221\n",
      "        11\n"
     ]
    }
   ],
   "source": [
    "def romb(i:int) -> int:\n",
    "    for b in range (1,i):\n",
    "        print (' '*(i-b+1), end = '')\n",
    "        for a in range (1,b+1):\n",
    "            print (a,end = '')\n",
    "        for a in range (b,0,-1):\n",
    "            print (a,end = '')\n",
    "        else:\n",
    "            print('')\n",
    "    for b in range (i,0,-1):\n",
    "        print (' '*(i-b+1), end = '')\n",
    "        for a in range (1,b+1):\n",
    "            print (a,end = '')\n",
    "        for a in range (b,0,-1):\n",
    "            print (a,end = '')\n",
    "        else:\n",
    "            print('')\n",
    "            \n",
    "romb(8)"
   ]
  },
  {
   "cell_type": "code",
   "execution_count": null,
   "id": "e995ebe5",
   "metadata": {},
   "outputs": [],
   "source": []
  }
 ],
 "metadata": {
  "kernelspec": {
   "display_name": "Python 3 (ipykernel)",
   "language": "python",
   "name": "python3"
  },
  "language_info": {
   "codemirror_mode": {
    "name": "ipython",
    "version": 3
   },
   "file_extension": ".py",
   "mimetype": "text/x-python",
   "name": "python",
   "nbconvert_exporter": "python",
   "pygments_lexer": "ipython3",
   "version": "3.9.7"
  }
 },
 "nbformat": 4,
 "nbformat_minor": 5
}
