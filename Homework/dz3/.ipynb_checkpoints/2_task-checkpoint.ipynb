{
 "cells": [
  {
   "cell_type": "markdown",
   "id": "246424fe",
   "metadata": {},
   "source": [
    "# Самостоятельная работа #2\n",
    "### Задание 1\n",
    "\n",
    "Допишите функцию, которая принимает 2 числа, сравнивает между собой и возвращает наименьшее."
   ]
  },
  {
   "cell_type": "code",
   "execution_count": 30,
   "id": "1b225d18",
   "metadata": {},
   "outputs": [
    {
     "name": "stdout",
     "output_type": "stream",
     "text": [
      "4\n",
      "5\n",
      "меньшее число = 4\n"
     ]
    }
   ],
   "source": [
    "# Начните писать код тут\n",
    "def minim():\n",
    "    num1 = input('Первое число равно: ')\n",
    "    num2 = input('Второе число равно: ')\n",
    "\n",
    "    if num1 == num2:\n",
    "        return('Они равны!')\n",
    "    elif num1 > num2:\n",
    "        return num2\n",
    "    else:\n",
    "        return num1\n",
    "\n",
    "\n",
    "minim()\n"
   ]
  },
  {
   "cell_type": "markdown",
   "id": "9342d85f",
   "metadata": {},
   "source": [
    "### Задание 2\n",
    "\n",
    "Допишите функцию, которая принимает 3 числа, сравнивает между собой и возвращает наименьшее."
   ]
  },
  {
   "cell_type": "markdown",
   "id": "d95ac26b",
   "metadata": {},
   "source": [
    "# Начните писать код тут\n"
   ]
  },
  {
   "cell_type": "code",
   "execution_count": 1,
   "id": "a9f2a8da",
   "metadata": {},
   "outputs": [
    {
     "name": "stdout",
     "output_type": "stream",
     "text": [
      "Первое число равно: 1\n",
      "Второе число равно: 2\n",
      "Третье число равно: 27\n"
     ]
    },
    {
     "data": {
      "text/plain": [
       "'1'"
      ]
     },
     "execution_count": 1,
     "metadata": {},
     "output_type": "execute_result"
    }
   ],
   "source": [
    "def minim():\n",
    "        num1 = input('Первое число равно: ')\n",
    "        num2 = input('Второе число равно: ')\n",
    "        num3 = input('Третье число равно: ')\n",
    "\n",
    "        if num1 == num2 == num3:\n",
    "            return ('Они равны!')\n",
    "        elif num1 <= num2 and num1 <= num3:\n",
    "            return num1\n",
    "        elif num2 <= num1 and num2 <= num3:\n",
    "            return num2\n",
    "        else:\n",
    "            return num3\n",
    "\n",
    "\n",
    "minim()"
   ]
  },
  {
   "cell_type": "markdown",
   "id": "9ef85dfd",
   "metadata": {},
   "source": [
    "### Задание 2\n",
    "\n",
    "Допишите функцию, которая принимает 3 числа, сравнивает между собой и возвращает количество совпадающих чисел. Соответственно, программа может возвращать одно из трех чисел: 3 - если совпадают все, 2 - если совпадают 2 числа, 0 - если все числа различны."
   ]
  },
  {
   "cell_type": "code",
   "execution_count": 2,
   "id": "ec6a169c",
   "metadata": {},
   "outputs": [
    {
     "name": "stdout",
     "output_type": "stream",
     "text": [
      "Первое число равно: 2\n",
      "Второе число равно: 2\n",
      "Третье число равно: 4\n"
     ]
    },
    {
     "data": {
      "text/plain": [
       "2"
      ]
     },
     "execution_count": 2,
     "metadata": {},
     "output_type": "execute_result"
    }
   ],
   "source": [
    "# Начните писать код тут\n",
    "def minim():\n",
    "        num1 = input('Первое число равно: ')\n",
    "        num2 = input('Второе число равно: ')\n",
    "        num3 = input('Третье число равно: ')\n",
    "\n",
    "        if num1 == num2 == num3:\n",
    "            return 3\n",
    "        elif num1 == num2 or num2 == num3:\n",
    "            return 2\n",
    "        else:\n",
    "            return 0\n",
    "\n",
    "\n",
    "minim()"
   ]
  }
 ],
 "metadata": {
  "kernelspec": {
   "display_name": "Python 3 (ipykernel)",
   "language": "python",
   "name": "python3"
  },
  "language_info": {
   "codemirror_mode": {
    "name": "ipython",
    "version": 3
   },
   "file_extension": ".py",
   "mimetype": "text/x-python",
   "name": "python",
   "nbconvert_exporter": "python",
   "pygments_lexer": "ipython3",
   "version": "3.9.7"
  }
 },
 "nbformat": 4,
 "nbformat_minor": 5
}
