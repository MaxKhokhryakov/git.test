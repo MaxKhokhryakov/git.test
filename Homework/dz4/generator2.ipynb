{
 "cells": [
  {
   "cell_type": "code",
   "execution_count": 1,
   "id": "c904638f",
   "metadata": {},
   "outputs": [
    {
     "name": "stdout",
     "output_type": "stream",
     "text": [
      "[('M', 'L'), ('A', 'a'), ('I', 'm')]\n",
      "[('H', 5), ('e', 1), ('l', 0), ('l', 5)]\n"
     ]
    }
   ],
   "source": [
    "def own_zip(a, b):\n",
    "    if len(a) > len(b):\n",
    "        length = len(b)\n",
    "    else:\n",
    "        length = len(a)\n",
    "\n",
    "    for i in range(0, length):\n",
    "        d = (a[i], b[i])\n",
    "        yield d\n",
    "\n",
    "\n",
    "print(list(own_zip('MAI', 'Lambda')))\n",
    "print(list(own_zip('Hello', [5, 1, 0, 5])))"
   ]
  },
  {
   "cell_type": "code",
   "execution_count": null,
   "id": "d69143fb",
   "metadata": {},
   "outputs": [],
   "source": []
  }
 ],
 "metadata": {
  "kernelspec": {
   "display_name": "Python 3 (ipykernel)",
   "language": "python",
   "name": "python3"
  },
  "language_info": {
   "codemirror_mode": {
    "name": "ipython",
    "version": 3
   },
   "file_extension": ".py",
   "mimetype": "text/x-python",
   "name": "python",
   "nbconvert_exporter": "python",
   "pygments_lexer": "ipython3",
   "version": "3.9.7"
  }
 },
 "nbformat": 4,
 "nbformat_minor": 5
}
