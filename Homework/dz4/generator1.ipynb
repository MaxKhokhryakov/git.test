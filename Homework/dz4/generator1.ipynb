{
 "cells": [
  {
   "cell_type": "code",
   "execution_count": 1,
   "id": "f4cb76a1",
   "metadata": {},
   "outputs": [
    {
     "name": "stdout",
     "output_type": "stream",
     "text": [
      "[(0, 'MAI'), (1, 'Lambda'), (2, 'Python')]\n",
      "[(0, 'H'), (1, 'e'), (2, 'l'), (3, 'l'), (4, 'o'), (5, ' '), (6, 'M'), (7, 'A'), (8, 'I'), (9, '!')]\n"
     ]
    }
   ],
   "source": [
    "def own_enumerate(arr):\n",
    "    num = 0\n",
    "    for i in arr:\n",
    "        b = (num, i)\n",
    "        yield b\n",
    "        num += 1\n",
    "\n",
    "\n",
    "print(list(own_enumerate(['MAI', 'Lambda', 'Python'])))\n",
    "print(list(own_enumerate('Hello MAI!')))"
   ]
  },
  {
   "cell_type": "code",
   "execution_count": null,
   "id": "5fd5b66f",
   "metadata": {},
   "outputs": [],
   "source": []
  }
 ],
 "metadata": {
  "kernelspec": {
   "display_name": "Python 3 (ipykernel)",
   "language": "python",
   "name": "python3"
  },
  "language_info": {
   "codemirror_mode": {
    "name": "ipython",
    "version": 3
   },
   "file_extension": ".py",
   "mimetype": "text/x-python",
   "name": "python",
   "nbconvert_exporter": "python",
   "pygments_lexer": "ipython3",
   "version": "3.9.7"
  }
 },
 "nbformat": 4,
 "nbformat_minor": 5
}
