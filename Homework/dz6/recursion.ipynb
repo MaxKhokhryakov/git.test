{
 "cells": [
  {
   "cell_type": "code",
   "execution_count": null,
   "id": "5d6cd2a9",
   "metadata": {},
   "outputs": [],
   "source": [
    "def print_list(i: list, k: int = 0):\n",
    "    if k == (len(i)):\n",
    "        return\n",
    "    print(i[k])\n",
    "    print_list(i, k + 1)\n",
    "\n",
    "\n",
    "list_1 = input().split()\n",
    "\n",
    "print(print_list(list_1))\n"
   ]
  }
 ],
 "metadata": {
  "kernelspec": {
   "display_name": "Python 3 (ipykernel)",
   "language": "python",
   "name": "python3"
  },
  "language_info": {
   "codemirror_mode": {
    "name": "ipython",
    "version": 3
   },
   "file_extension": ".py",
   "mimetype": "text/x-python",
   "name": "python",
   "nbconvert_exporter": "python",
   "pygments_lexer": "ipython3",
   "version": "3.9.7"
  }
 },
 "nbformat": 4,
 "nbformat_minor": 5
}
